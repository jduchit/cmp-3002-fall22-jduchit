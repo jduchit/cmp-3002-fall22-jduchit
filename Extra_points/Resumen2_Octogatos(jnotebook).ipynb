{
 "cells": [
  {
   "cell_type": "markdown",
   "metadata": {
    "tags": []
   },
   "source": [
    "#  <center> UNIVERSIDAD SAN FRANCISCO DE QUITO </center>\n",
    "#  <center> COLEGIO: CIENCIAS E INGENIERIAS </center>\n",
    "#  <center> ESTRUCTURA DE DATOS </center> \n",
    "### **Nombre:** Johana Duchi Tipán                          \n",
    "### **Código Banner:** 00321980\n",
    "### **Fecha de entrega:** 29 de septiembre de 2022.         \n",
    "### **NRC:** 2075"
   ]
  },
  {
   "cell_type": "markdown",
   "metadata": {},
   "source": [
    "#### <br> **Asistir a la conferencia Octogatos (https://www.octogatosconf.com/), y escribir un resumen de 200-300 palabras de cada charla asistida.**\n",
    "## <center> PuntosExtra - Conferencia </center>"
   ]
  },
  {
   "cell_type": "markdown",
   "metadata": {},
   "source": [
    "### <center> Charla N°2 </center>\n",
    "### <center> Hacia una inteligencia artificial responsable </center>\n",
    "#### **Expositores:** Luis Beltrán y Carla Mamani Chávez\n",
    "<br> Cuando se habla de inteligencia artificial, las personas usualmente tienen miedo porque asocian estas tecnologías con el robo indiscriminado de información, es por este motivo que implica una gran responsabilidad actuar en pro de estos nuevos avances, por la relación directa que tendrán en un futuro, es necesario crear leyes que regulen y obliguen el cumplimiento de las normas de privacidad y recopilación de datos. \n",
    "<br> Los principios de una inteligencia artificial responsable van ligados a una ética más justa e inclusiva en sus aplicaciones, y estos son:\n",
    "##### **1.- Principio de Equidad**\n",
    "Cualquier modelo de IA tiene un sesgo intencional o no intencional que podría ocasionar una injusticia, por lo que existen paquetes que cuentan con un dashboard, que verifica los datos, las características sensibles, y los resultados sin ninguna discriminación.\n",
    "##### **2. Transparencia (explicabilidad)**\n",
    "Los sistemas deben ser seguros para poder confiar en ellos, responder a diferentes situaciones y procesos robustos.\n",
    "##### **3. Fiabilidad**\n",
    "Los IA deben ser seguros para confiar en ellos, se puede hacer seguimiento al sistema en cualquier momento.\n",
    "##### **4. Privacidad**\n",
    "Existen muchas formas de mantener la privacidad, como el reconocimiento facial que impide que nuestros datos sean sensibles.\n",
    "##### **5. Inclusión**\n",
    "Los sistemas deben ser garantizando la participación de las diferentes categorías de individuos.\n",
    "##### **6. Responsabilidad**\n",
    "Herramientas como el Responsible AI Toolbox nos permiten construir soluciones basadas en las acciones y en los datos, con el objetivo de analizar los errores, la interpretabilidad, la equidad y el IA responsable para una depuración de modelos e información.\n"
   ]
  },
  {
   "cell_type": "code",
   "execution_count": null,
   "metadata": {},
   "outputs": [],
   "source": []
  }
 ],
 "metadata": {
  "kernelspec": {
   "display_name": "Python 3 (ipykernel)",
   "language": "python",
   "name": "python3"
  },
  "language_info": {
   "codemirror_mode": {
    "name": "ipython",
    "version": 3
   },
   "file_extension": ".py",
   "mimetype": "text/x-python",
   "name": "python",
   "nbconvert_exporter": "python",
   "pygments_lexer": "ipython3",
   "version": "3.9.12"
  }
 },
 "nbformat": 4,
 "nbformat_minor": 4
}
