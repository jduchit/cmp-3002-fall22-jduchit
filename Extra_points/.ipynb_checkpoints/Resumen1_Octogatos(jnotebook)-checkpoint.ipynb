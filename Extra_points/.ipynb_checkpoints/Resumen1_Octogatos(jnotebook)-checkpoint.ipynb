{
 "cells": [
  {
   "cell_type": "markdown",
   "metadata": {},
   "source": [
    "#  <center> **UNIVERSIDAD SAN FRANCISCO DE QUITO** </center>\n",
    "#  <center> **COLEGIO: CIENCIAS E INGENIERIAS** </center>\n",
    "#  <center> **ESTRUCTURA DE DATOS** </center> \n",
    "### **Nombre:** Johana Duchi Tipán                          \n",
    "### **Código Banner:** 00321980\n",
    "### **Fecha de entrega:** 29 de septiembre de 2022.         \n",
    "### **NRC:** 2075"
   ]
  },
  {
   "cell_type": "markdown",
   "metadata": {},
   "source": [
    "#### <br> **Asistir a la conferencia Octogatos (https://www.octogatosconf.com/), y escribir un resumen de 200-300 palabras de cada charla asistida.**\n",
    "## <center>**Puntos Extra - Conferencia** </center>"
   ]
  },
  {
   "cell_type": "markdown",
   "metadata": {},
   "source": [
    "### <center> **Charla N°1** </center>\n",
    "### <center> **Capacidades para equipos de ingeniería de producto** </center>\n",
    "#### **Expositor:** Juan Pablo Buritica\n",
    "Para el panelista, los resultados y la efectividad de los equipos no dependen solo del líder sino de\n",
    "todo el equipo por esto es importante desarrollar diferentes capacidades como son:\n",
    "1. Buscar oportunidades, siempre es bueno preguntar para aclarar las metas del equipo.\n",
    "2. Fijar objetivos de tal forma que se entienda la estrategia planteada.\n",
    "3. Pedir ayuda en el momento que exista alguna dificultad y no esperar al final cuando ya no\n",
    "hay como arreglar.\n",
    "4. Es muy importante decir que se está haciendo para que todos estén en conocimiento.\n",
    "5. Aprender a negociar con otros.\n",
    "6. Cuando se tenga conflictos escalar a las jefaturas inmediatas.\n",
    "7. Los equipos deben administrar su capacidad, balancearla y acelerarla con menos trabajo.\n",
    "8. Hay que saber delegar y compartir los conocimientos a todos los miembros del equipo.\n",
    "9. Comprender al usuario y entenderlo.\n",
    "10. Entender los factores que generan soluciones al equipo.\n",
    "11. Ser seres sociales y alinearse a los objetivos.\n",
    "12. Definir acuerdos de trabajo para cooperar entre sí.\n",
    "13. Anticiparse a los problemas, ser más proactivo.\n",
    "14. Documentar para prevenir esto nos ayuda a responder en emergencias.\n",
    "15. Mejorar los procesos de manera continua ayuda a generar mejores resultados."
   ]
  }
 ],
 "metadata": {
  "kernelspec": {
   "display_name": "Python 3 (ipykernel)",
   "language": "python",
   "name": "python3"
  },
  "language_info": {
   "codemirror_mode": {
    "name": "ipython",
    "version": 3
   },
   "file_extension": ".py",
   "mimetype": "text/x-python",
   "name": "python",
   "nbconvert_exporter": "python",
   "pygments_lexer": "ipython3",
   "version": "3.9.12"
  }
 },
 "nbformat": 4,
 "nbformat_minor": 4
}
