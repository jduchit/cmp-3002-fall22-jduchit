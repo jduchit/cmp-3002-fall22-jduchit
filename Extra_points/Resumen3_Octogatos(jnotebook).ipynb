{
 "cells": [
  {
   "cell_type": "markdown",
   "metadata": {},
   "source": [
    "#  <center> **UNIVERSIDAD SAN FRANCISCO DE QUITO** </center>\n",
    "#  <center> **COLEGIO: CIENCIAS E INGENIERIAS** </center>\n",
    "#  <center> **ESTRUCTURA DE DATOS** </center> \n",
    "### **Nombre:** Johana Duchi Tipán                          \n",
    "### **Código Banner:** 00321980\n",
    "### **Fecha de entrega:** 29 de septiembre de 2022.         \n",
    "### **NRC:** 2075"
   ]
  },
  {
   "cell_type": "markdown",
   "metadata": {},
   "source": [
    "#### <br> **Asistir a la conferencia Octogatos (https://www.octogatosconf.com/), y escribir un resumen de 200-300 palabras de cada charla asistida.**\n",
    "## <center>**Puntos Extra - Conferencia** </center>"
   ]
  },
  {
   "cell_type": "markdown",
   "metadata": {},
   "source": [
    "### <center> **Charla N°3** </center>\n",
    "### <center> **Construyendo Machine Learning de manera Open Source y en Comunidad** </center>\n",
    "#### **Expositor:** Omar Sanseviero\n",
    "Si una persona quiere crear un modelo de Machine Learning, primero hay identificar los datos y\n",
    "depurarlos esto implica mucho dinero y esfuerzo, hay que analizar los problemas similares con varias\n",
    "personas y en open source para más colaboraciones.\n",
    "En el aprendizaje por transferencia se comparten miles de modelos para aprovechar todo el\n",
    "conocimiento hasta crear un nuevo modelo con comprensión estadística que pueda ser ajustado,\n",
    "estos modelos tienen model cards es decir están documentados de manera transparente, con\n",
    "métricas y control de versiones.\n",
    "Los Datasets Hub son catálogos que permite utilizar líneas de códigos para clasificar texto, responder\n",
    "preguntas, compartir resúmenes, además tienen una biblioteca de Python sin limitaciones de RAM.\n",
    "Los datos abiertos son importantes porque permiten interactuar con la comunidad, el poder\n",
    "computacional abierto permite abrir barreras a través de un entrenamiento distribuido en comunidad.\n",
    "Los demos sirven para presentar fácilmente a una audiencia más grande los modelos e identificar\n",
    "posibles puntos de falla, aumentando la reproductibilidad de la investigación. En Python se pueden\n",
    "hacer esos modelos con unas pocas líneas de código como JoJoGAN que cambia el estilo de la cara\n",
    "de manera muy fácil.\n",
    "Otro ejemplo es de Microsoft WavLM + X – Vectors que permite subir 2 audios diferentes y predecir\n",
    "si es la misma persona la que habla o no. En Spaces de HuB se puede compartir demos de manera\n",
    "gratuita.\n",
    "Estamos en el punto de cambio del Machine Learning porque cualquier persona puede abrir spaces\n",
    "y puede probar estos demos y crear nuevos modelos de manera muy fácil."
   ]
  }
 ],
 "metadata": {
  "kernelspec": {
   "display_name": "Python 3 (ipykernel)",
   "language": "python",
   "name": "python3"
  },
  "language_info": {
   "codemirror_mode": {
    "name": "ipython",
    "version": 3
   },
   "file_extension": ".py",
   "mimetype": "text/x-python",
   "name": "python",
   "nbconvert_exporter": "python",
   "pygments_lexer": "ipython3",
   "version": "3.9.12"
  }
 },
 "nbformat": 4,
 "nbformat_minor": 4
}
