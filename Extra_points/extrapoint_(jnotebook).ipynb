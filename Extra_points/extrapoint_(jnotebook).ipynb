{
 "cells": [
  {
   "cell_type": "markdown",
   "metadata": {},
   "source": [
    "#  <center> UNIVERSIDAD SAN FRANCISCO DE QUITO </center>\n",
    "#  <center> COLEGIO: CIENCIAS E INGENIERIAS </center>\n",
    "#  <center> ESTRUCTURA DE DATOS </center> \n",
    "### **Nombre:** Johana Duchi Tipán                          \n",
    "### **Código Banner:** 00321980\n",
    "### **Fecha de entrega:** 20 de octubre de 2022.         \n",
    "### **NRC:** 2075\n",
    "## <center>**EXTRA POINTS - DEEP COPY OF A LINKED LIST** <center>"
   ]
  },
  {
   "cell_type": "code",
   "execution_count": null,
   "metadata": {},
   "outputs": [],
   "source": []
  }
 ],
 "metadata": {
  "kernelspec": {
   "display_name": "Python 3 (ipykernel)",
   "language": "python",
   "name": "python3"
  },
  "language_info": {
   "codemirror_mode": {
    "name": "ipython",
    "version": 3
   },
   "file_extension": ".py",
   "mimetype": "text/x-python",
   "name": "python",
   "nbconvert_exporter": "python",
   "pygments_lexer": "ipython3",
   "version": "3.9.12"
  }
 },
 "nbformat": 4,
 "nbformat_minor": 4
}
