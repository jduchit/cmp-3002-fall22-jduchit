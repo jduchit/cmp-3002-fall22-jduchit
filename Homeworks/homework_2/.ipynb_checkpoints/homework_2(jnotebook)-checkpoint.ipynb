{
 "cells": [
  {
   "cell_type": "markdown",
   "metadata": {},
   "source": [
    "#  <center> UNIVERSIDAD SAN FRANCISCO DE QUITO </center>\n",
    "#  <center> COLEGIO: CIENCIAS E INGENIERIAS </center>\n",
    "#  <center> ESTRUCTURA DE DATOS </center> \n",
    "### **Nombre:** Johana Duchi Tipán                          \n",
    "### **Código Banner:** 00321980\n",
    "### **Fecha de entrega:** 18 de octubre de 2022.         \n",
    "### **NRC:** 2075\n",
    "## <center>**DEBER 2** <center>"
   ]
  },
  {
   "cell_type": "code",
   "execution_count": 232,
   "metadata": {},
   "outputs": [],
   "source": [
    "import time\n",
    "\"\"\"\n",
    "La funcion medidor_tiempo se encarga de medir el tiempo de ejecucion de un programa.\n",
    "\"\"\"\n",
    "def medidor_tiempo(funcion):\n",
    "    def funcion_medida(*args, **kwargs):\n",
    "        inicio = time.time()*10**6\n",
    "        c = funcion(*args, **kwargs)\n",
    "        fin = time.time()*10**6\n",
    "        #Se resta el segundo que puse en el sleep\n",
    "        print(\"\\nLa funcion: \",funcion.__name__,\" , se ejecuto en: {} micro segundos\".format((fin - inicio)-(10**6)))\n",
    "        return c\n",
    "    return funcion_medida"
   ]
  },
  {
   "cell_type": "markdown",
   "metadata": {},
   "source": [
    "**def medidor_tiempo ->** esta funcion fue implementada por el libro de Python y editada.\n",
    "<br>**Referencias:**\n",
    "<br> &ensp; El libro de Python.(2022). Medir tiempo de ejecución. https://ellibrodepython.com/tiempo-ejecucion-python\n",
    "<br> &ensp; GeeksforGeeks.(2019). time.process_time() function in Python. https://www.geeksforgeeks.org/time-process_time-function-in-python/\n",
    "<br> &ensp; DelftStack.(2021). Calculate Time Elapsed in Python. https://www.delftstack.com/howto/python/python-elapsed-time/\n",
    "<br> &ensp; Anonimo.(2021).Return with format() in python.https://stackoverflow.com/questions/69472685/return-with-format-in-python"
   ]
  },
  {
   "cell_type": "markdown",
   "metadata": {
    "tags": []
   },
   "source": [
    "### **1. Implemente la clase Stacks y todos sus métodos usando listas enlazadas simples - singly linked lists. Analizar el tiempo de ejecución y la complejidad de la memoria, y comparar con lo que estudiamos en clase**"
   ]
  },
  {
   "cell_type": "code",
   "execution_count": 233,
   "metadata": {},
   "outputs": [],
   "source": [
    "\"\"\"\n",
    "Clase que crea los nodos de la linked list\n",
    "\"\"\"\n",
    "class Node:\n",
    "    \"\"\"\n",
    "    Implementation of a node\n",
    "    \"\"\"\n",
    "    def __init__(self, val=None):\n",
    "        self.val = val\n",
    "        self.next_node = None\n",
    "    \n",
    "    def set_next_node(self, next_node):\n",
    "        self.next_node = next_node"
   ]
  },
  {
   "cell_type": "code",
   "execution_count": 234,
   "metadata": {},
   "outputs": [],
   "source": [
    "import ctypes\n",
    "class Stack(object):\n",
    "    \"\"\"\n",
    "    Funcion que inicializa la cabeza de la lista enlazada y la capacidad\n",
    "    del stack\n",
    "    \"\"\"\n",
    "    def __init__(self, n,head_node=None):\n",
    "        self.head_node = head_node\n",
    "        self.count_node =0\n",
    "        self.n= n\n",
    "        self.stack = self._create_stack(self.n)       \n",
    "    \n",
    "    def _create_stack(self, n):\n",
    "        \"\"\"\n",
    "        Creates a new stack of capacity n\n",
    "        \"\"\"\n",
    "        return (n * ctypes.py_object)()"
   ]
  },
  {
   "cell_type": "code",
   "execution_count": 235,
   "metadata": {},
   "outputs": [],
   "source": [
    "\"\"\"\n",
    "Clase que crea el stack usando el principio LIFO lo ultimo en entrar es\n",
    "lo primero en salir\n",
    "\"\"\"    \n",
    "class Stack(Stack):   \n",
    "    \"\"\"\n",
    "    Funcion que almacena un elemento en el stack y define la capacidad\n",
    "    del stack\n",
    "    \"\"\"\n",
    "    @medidor_tiempo\n",
    "    def push(self, new_node):\n",
    "        time.sleep(1)\n",
    "        if self.n == self.size():\n",
    "            raise ValueError(\"no more capacity\")\n",
    "        else:\n",
    "            if self.head_node is None:\n",
    "                self.head_node = Node(new_node)\n",
    "            else:\n",
    "                new_node = Node(new_node)\n",
    "                new_node.next_node = self.head_node\n",
    "                self.head_node = new_node\n",
    "        #Suma los elementos que se van a\n",
    "        self.count_node+=1\n",
    "        \n",
    "    \"\"\"\n",
    "    Funcion que elimina el primer elemento de la pila\n",
    "    \"\"\"\n",
    "    @medidor_tiempo\n",
    "    def pop(self):\n",
    "        time.sleep(1)\n",
    "        \"\"\"\n",
    "        Verificamos si el stack esta vacio, usando la funcion empty\n",
    "        \"\"\"\n",
    "        if self.empty():\n",
    "            return None\n",
    "        else:\n",
    "            prev = self.head_node\n",
    "            self.head_node = prev.next_node\n",
    "            #Borramos el puntero\n",
    "            prev.next_node =None\n",
    "        self.count_node-=1\n",
    "    \n",
    "    \"\"\"\n",
    "    Funcion que retorna la cabeza del stack\n",
    "    \"\"\"\n",
    "    @medidor_tiempo\n",
    "    def top(self):\n",
    "        time.sleep(1)\n",
    "        \"\"\"\n",
    "        Verificamos si el stack esta vacio, usando la funcion empty\n",
    "        \"\"\"\n",
    "        if self.empty():\n",
    "            return None\n",
    "        else:            \n",
    "            return self.head_node.val\n",
    "        \n",
    "    \n",
    "    \"\"\"\n",
    "    Funcion que verifica si el stack esta lleno\n",
    "    \"\"\" \n",
    "    @medidor_tiempo\n",
    "    def full(self):\n",
    "        time.sleep(1)  \n",
    "        return self.n == self.size()     \n",
    "        # if self.l == self.n:\n",
    "        #    return True\n",
    "        # return False\n",
    "        \n",
    "    \"\"\"\n",
    "    Funcion que verifica si esta lleno el stack\n",
    "    \"\"\"\n",
    "    @medidor_tiempo\n",
    "    def empty(self):\n",
    "        time.sleep(1)\n",
    "        return self.head_node==None\n",
    "        #if self.head_node == 0:\n",
    "        #    return True\n",
    "        #else:\n",
    "        #    return False\n",
    "    \n",
    "    \"\"\"\n",
    "    Funcion que retorna el tamanio del stack\n",
    "    \"\"\"\n",
    "    @medidor_tiempo\n",
    "    def size(self):\n",
    "        time.sleep(1)\n",
    "        return self.count_node\n",
    "    \n",
    "    \"\"\"\n",
    "    Funcion que recorre el stack\n",
    "    \"\"\"\n",
    "    @medidor_tiempo\n",
    "    def stack_traversed(self):\n",
    "        node = self.head_node\n",
    "        while node:\n",
    "            print(node.val,\"->\" , end = \" \")\n",
    "            node = node.next_node       "
   ]
  },
  {
   "cell_type": "code",
   "execution_count": 236,
   "metadata": {},
   "outputs": [],
   "source": [
    "S = Stack(3)"
   ]
  },
  {
   "cell_type": "code",
   "execution_count": 237,
   "metadata": {},
   "outputs": [
    {
     "name": "stdout",
     "output_type": "stream",
     "text": [
      "\n",
      "La funcion:  stack_traversed  , se ejecuto en: -1000000.0 micro segundos\n",
      "The stack is: None\n"
     ]
    }
   ],
   "source": [
    "print(\"The stack is:\",S.stack_traversed())"
   ]
  },
  {
   "cell_type": "code",
   "execution_count": 238,
   "metadata": {},
   "outputs": [
    {
     "name": "stdout",
     "output_type": "stream",
     "text": [
      "The new stack after method pop is:\n",
      "\n",
      "La funcion:  stack_traversed  , se ejecuto en: -1000000.0 micro segundos\n"
     ]
    }
   ],
   "source": [
    "print(\"The new stack after method pop is:\")\n",
    "S.stack_traversed()"
   ]
  },
  {
   "cell_type": "code",
   "execution_count": 239,
   "metadata": {},
   "outputs": [
    {
     "name": "stdout",
     "output_type": "stream",
     "text": [
      "\n",
      "La funcion:  size  , se ejecuto en: 5344.25 micro segundos\n",
      "\n",
      "La funcion:  full  , se ejecuto en: 1007194.0 micro segundos\n",
      "The stack is full:  False\n"
     ]
    }
   ],
   "source": [
    "print(\"The stack is full: \",S.full())"
   ]
  },
  {
   "cell_type": "code",
   "execution_count": 240,
   "metadata": {},
   "outputs": [
    {
     "name": "stdout",
     "output_type": "stream",
     "text": [
      "\n",
      "La funcion:  empty  , se ejecuto en: 7830.75 micro segundos\n",
      "The stack is empty:  True\n"
     ]
    }
   ],
   "source": [
    "print(\"The stack is empty: \", S.empty())"
   ]
  },
  {
   "cell_type": "code",
   "execution_count": 241,
   "metadata": {},
   "outputs": [
    {
     "name": "stdout",
     "output_type": "stream",
     "text": [
      "\n",
      "La funcion:  size  , se ejecuto en: 8601.0 micro segundos\n",
      "The size of stack is:  0\n"
     ]
    }
   ],
   "source": [
    "print(\"The size of stack is: \",S.size())"
   ]
  },
  {
   "cell_type": "code",
   "execution_count": 242,
   "metadata": {},
   "outputs": [
    {
     "name": "stdout",
     "output_type": "stream",
     "text": [
      "\n",
      "La funcion:  size  , se ejecuto en: 14942.25 micro segundos\n",
      "\n",
      "La funcion:  push  , se ejecuto en: 1019674.25 micro segundos\n",
      "\n",
      "La funcion:  size  , se ejecuto en: 3643.0 micro segundos\n",
      "\n",
      "La funcion:  push  , se ejecuto en: 1013896.25 micro segundos\n",
      "\n",
      "La funcion:  size  , se ejecuto en: 12931.75 micro segundos\n",
      "\n",
      "La funcion:  push  , se ejecuto en: 1019182.0 micro segundos\n"
     ]
    }
   ],
   "source": [
    "S.push(1)\n",
    "S.push(2)\n",
    "S.push(4)"
   ]
  },
  {
   "cell_type": "code",
   "execution_count": 243,
   "metadata": {
    "tags": []
   },
   "outputs": [
    {
     "name": "stdout",
     "output_type": "stream",
     "text": [
      "The stack is:\n",
      "4 -> 2 -> 1 -> \n",
      "La funcion:  stack_traversed  , se ejecuto en: -1000000.0 micro segundos\n"
     ]
    }
   ],
   "source": [
    "print(\"The stack is:\")\n",
    "S.stack_traversed()"
   ]
  },
  {
   "cell_type": "code",
   "execution_count": 244,
   "metadata": {},
   "outputs": [
    {
     "name": "stdout",
     "output_type": "stream",
     "text": [
      "\n",
      "La funcion:  empty  , se ejecuto en: 13095.5 micro segundos\n",
      "\n",
      "La funcion:  top  , se ejecuto en: 1034953.25 micro segundos\n",
      "The stack top is : 4\n"
     ]
    }
   ],
   "source": [
    "print(\"The stack top is :\",S.top() )"
   ]
  },
  {
   "cell_type": "code",
   "execution_count": 245,
   "metadata": {},
   "outputs": [
    {
     "name": "stdout",
     "output_type": "stream",
     "text": [
      "\n",
      "La funcion:  empty  , se ejecuto en: 16874.25 micro segundos\n",
      "\n",
      "La funcion:  pop  , se ejecuto en: 1028919.25 micro segundos\n"
     ]
    }
   ],
   "source": [
    "S.pop()"
   ]
  },
  {
   "cell_type": "code",
   "execution_count": 246,
   "metadata": {},
   "outputs": [
    {
     "name": "stdout",
     "output_type": "stream",
     "text": [
      "The stack is:\n",
      "2 -> 1 -> \n",
      "La funcion:  stack_traversed  , se ejecuto en: -998997.5 micro segundos\n"
     ]
    }
   ],
   "source": [
    "print(\"The stack is:\")\n",
    "S.stack_traversed()"
   ]
  },
  {
   "cell_type": "code",
   "execution_count": 247,
   "metadata": {},
   "outputs": [
    {
     "name": "stdout",
     "output_type": "stream",
     "text": [
      "\n",
      "La funcion:  empty  , se ejecuto en: 7670.25 micro segundos\n",
      "\n",
      "La funcion:  top  , se ejecuto en: 1014567.25 micro segundos\n",
      "The stack top is : 2\n"
     ]
    }
   ],
   "source": [
    "print(\"The stack top is :\",S.top() )"
   ]
  },
  {
   "cell_type": "code",
   "execution_count": 248,
   "metadata": {},
   "outputs": [
    {
     "name": "stdout",
     "output_type": "stream",
     "text": [
      "\n",
      "La funcion:  size  , se ejecuto en: 7101.75 micro segundos\n",
      "\n",
      "La funcion:  full  , se ejecuto en: 1015408.25 micro segundos\n",
      "The stack is full:  False\n"
     ]
    }
   ],
   "source": [
    "print(\"The stack is full: \",S.full())"
   ]
  },
  {
   "cell_type": "code",
   "execution_count": 249,
   "metadata": {},
   "outputs": [
    {
     "name": "stdout",
     "output_type": "stream",
     "text": [
      "\n",
      "La funcion:  empty  , se ejecuto en: 11887.0 micro segundos\n",
      "The stack is empty:  False\n"
     ]
    }
   ],
   "source": [
    "print(\"The stack is empty: \", S.empty())"
   ]
  },
  {
   "cell_type": "code",
   "execution_count": 250,
   "metadata": {},
   "outputs": [
    {
     "name": "stdout",
     "output_type": "stream",
     "text": [
      "\n",
      "La funcion:  size  , se ejecuto en: 14011.25 micro segundos\n",
      "The size of stack is:  2\n"
     ]
    }
   ],
   "source": [
    "print(\"The size of stack is: \",S.size())"
   ]
  },
  {
   "cell_type": "markdown",
   "metadata": {},
   "source": [
    "**Análisis:**\n",
    "<br>&ensp; &ensp;La complejidad del tiempo, toma un tiempo constante c para ejecutar una operación, y luego se calculan las operaciones totales.\n",
    "<br>&ensp; &ensp;La complejidad del espacio = tamaño de entrada + espacio auxiliar\n",
    "<br> &ensp;**1.** La clase Node tiene los métodos:\n",
    "<br> &ensp; &ensp; &ensp; &ensp;**a.** init con una complejidad de tiempo $O(1)$: complejidad constante y una complejidad de espacio $O(1)$:complejidad constante.\n",
    "<br> &ensp; &ensp; &ensp; &ensp;**b.** set_next_node con una complejidad de tiempo $O(1)$: complejidad constante y una complejidad de espacio $O(1)$:complejidad constante.\n",
    "<br> &ensp; &ensp;Por lo tanto, la complejidad de tiempo de la clase Node es $O(1)$: complejidad constante y una complejidad de espacio $O(1)$:complejidad constante.\n",
    "<br> &ensp;**2.** La clase Stack(object) tiene los métodos:\n",
    "<br> &ensp; &ensp; &ensp; &ensp;**a.** init con una complejidad de tiempo $O(1)$: complejidad constante y una complejidad de espacio $O(1)$:complejidad constante.\n",
    "<br> &ensp; &ensp; &ensp; &ensp;**a.** _create_stack con una complejidad de tiempo $O(1)$: complejidad constante y una complejidad de espacio $O(1)$:complejidad constante.\n",
    "<br> &ensp; &ensp;Por lo tanto, la complejidad de tiempo de la clase Stack(object)es $O(1)$: complejidad constante y una complejidad de espacio $O(1)$:complejidad constante.\n",
    "<br> &ensp;**3.** La clase Stack(Stack) tiene los métodos:\n",
    "<br> &ensp; &ensp; &ensp; &ensp;**a.** push con una complejidad de tiempo $O(1)$: complejidad constante y una complejidad de espacio $O(n^2)$:complejidad cuadrática (2 if).\n",
    "<br> &ensp; &ensp; &ensp; &ensp;**b.** pop con una complejidad de tiempo $O(1)$: complejidad constante y una complejidad de espacio $O(n)$:complejidad lineal (1 if).\n",
    "<br> &ensp; &ensp; &ensp; &ensp;**c.** top con una complejidad de tiempo $O(1)$: complejidad constante y una complejidad de espacio $O(n)$:complejidad lineal (1 if).\n",
    "<br> &ensp; &ensp; &ensp; &ensp;**d.** full con una complejidad de tiempo $O(1)$: complejidad constante y una complejidad de espacio $O(1)$:complejidad constante.\n",
    "<br> &ensp; &ensp; &ensp; &ensp;**e.** empty con una complejidad de tiempo $O(1)$: complejidad constante y una complejidad de espacio $O(1)$:complejidad constante.\n",
    "<br> &ensp; &ensp; &ensp; &ensp;**f.** size con una complejidad de tiempo $O(1)$: complejidad constante y una complejidad de espacio $O(1)$:complejidad constante.\n",
    "<br> &ensp; &ensp; &ensp; &ensp;**g.** stack_traversed con una complejidad de tiempo $O(n)$: complejidad lineal y una complejidad de espacio $O(n)$:complejidad lineal (1 while).\n",
    "<br> &ensp; &ensp;Por lo tanto, la complejidad de tiempo de la clase Stack(Stack) es $O(n)$: complejidad lineal y una complejidad de espacio $O(n^2)$:complejidad cuadrática).\n",
    "<br> &ensp;**4.** La complejidad de tiempo del algoritmo es $O(n)$: complejidad lineal y una complejidad de espacio $O(n^2)$:complejidad cuadrática)."
   ]
  },
  {
   "cell_type": "markdown",
   "metadata": {},
   "source": [
    "<br>El código se basó en lo visto en clase, con algunas modificaciones.\n",
    "<br>**Referencias:**\n",
    "<br>&ensp;Proaño,A.(2022).Stacks.https://github.com/aproano2/cmp-3002-fall22-aproano/blob/master/week5/stacks.ipynb\n",
    "<br>&ensp;Proaño,A.(2022).Linked list.https://github.com/aproano2/cmp-3002-fall22-aproano/blob/master/week5/linked_list.ipynb "
   ]
  },
  {
   "cell_type": "markdown",
   "metadata": {},
   "source": [
    "### **2. Escriba una parte del método de la clase de lista enlazada que invertirá la lista enlazada. Su implementación debe visitar cada nodo en la lista solo una vez y debe usar O(1) memoria adicional.**"
   ]
  },
  {
   "cell_type": "raw",
   "metadata": {},
   "source": [
    "Por ejemplo, si la lista es:\n",
    "\n",
    "A -> B -> C -> D -> nulo\n",
    "\n",
    "El método debe devolver:\n",
    "\n",
    "D -> C -> B -> A -> nulo"
   ]
  },
  {
   "cell_type": "code",
   "execution_count": 258,
   "metadata": {},
   "outputs": [],
   "source": [
    "class Linked_list:\n",
    "    \"\"\"\n",
    "    Funcion que inicializa la cabeza de la lista enlazada -linked list\n",
    "    \"\"\"\n",
    "    def __init__(self, head_node=None):\n",
    "        self.head_node = head_node"
   ]
  },
  {
   "cell_type": "code",
   "execution_count": 259,
   "metadata": {},
   "outputs": [],
   "source": [
    "class Linked_list(Linked_list):\n",
    "    \"\"\"\n",
    "    Funcion que recorre la lista enlazada - linked list\n",
    "    \"\"\"\n",
    "    @medidor_tiempo\n",
    "    def list_traversed(self):\n",
    "        time.sleep(1)\n",
    "        node = self.head_node\n",
    "        while node:\n",
    "            print(node.val,\"->\" , end = \" \")\n",
    "            node = node.next_node\n",
    "    \n",
    "    \"\"\"\n",
    "    Funcion que invierte la lista enlazada -linked list\n",
    "    \"\"\"\n",
    "    @medidor_tiempo\n",
    "    def list_reverse(self):\n",
    "        time.sleep(1)\n",
    "        prev = None\n",
    "        actual = self.head_node\n",
    "        while(actual is not None): \n",
    "            next_node= actual.next_node\n",
    "            actual.next_node = prev\n",
    "            prev = actual    \n",
    "            actual = next_node\n",
    "        self.head_node =prev"
   ]
  },
  {
   "cell_type": "code",
   "execution_count": 260,
   "metadata": {},
   "outputs": [],
   "source": [
    "m1 = Node(\"Jan\")\n",
    "m2 = Node(\"Feb\")\n",
    "m3 = Node(\"March\")\n",
    "m4 = Node(\"Dec\")"
   ]
  },
  {
   "cell_type": "code",
   "execution_count": 261,
   "metadata": {},
   "outputs": [],
   "source": [
    "m1.set_next_node(m2)\n",
    "m2.set_next_node(m3)\n",
    "m3.set_next_node(m4)"
   ]
  },
  {
   "cell_type": "code",
   "execution_count": 262,
   "metadata": {},
   "outputs": [
    {
     "name": "stdout",
     "output_type": "stream",
     "text": [
      "\n",
      "Linked list: \n",
      "Jan -> Feb -> March -> Dec -> \n",
      "La funcion:  list_traversed  , se ejecuto en: 9388.5 micro segundos\n"
     ]
    }
   ],
   "source": [
    "list1 = Linked_list(m1)\n",
    "print (\"\\nLinked list: \")\n",
    "list1.list_traversed()"
   ]
  },
  {
   "cell_type": "code",
   "execution_count": 263,
   "metadata": {},
   "outputs": [
    {
     "name": "stdout",
     "output_type": "stream",
     "text": [
      "\n",
      "Linked list reverse:\n",
      "\n",
      "La funcion:  list_reverse  , se ejecuto en: 1298.75 micro segundos\n",
      "Dec -> March -> Feb -> Jan -> \n",
      "La funcion:  list_traversed  , se ejecuto en: 12024.0 micro segundos\n"
     ]
    }
   ],
   "source": [
    "print (\"\\nLinked list reverse:\")\n",
    "list1.list_reverse()\n",
    "list1.list_traversed()"
   ]
  },
  {
   "cell_type": "markdown",
   "metadata": {},
   "source": [
    "<br>El código se basó en lo visto en clase, con algunas modificaciones.\n",
    "<br>**Referencias:**\n",
    "<br>&ensp;Proaño,A.(2022).Linked list.https://github.com/aproano2/cmp-3002-fall22-aproano/blob/master/week5/linked_list.ipynb "
   ]
  },
  {
   "cell_type": "markdown",
   "metadata": {},
   "source": [
    "### **3. Implemente la clase Queue usando pilas.**\n",
    "#### &ensp; &ensp; &ensp; &ensp; **a. Analice el tiempo de ejecución y la complejidad de la memoria, y compare con lo que implementamos en clase**\n",
    "#### &ensp; &ensp; &ensp; &ensp;**b. Implemente algunos casos de prueba que le permitan medir la diferencia en el tiempo de ejecución del método de eliminación de cola -dequeue. (Sugerencia: ¿cuál es el peor de los casos, para que la implementación de la pila sea mayor que la implementación que hicimos en clase?).**"
   ]
  },
  {
   "cell_type": "markdown",
   "metadata": {},
   "source": [
    "<br>La solución se basó en la explicación de las 2 resoluciones, propuestas en clase por Alejandro Proaño\n",
    "<br>**Referencias:**\n",
    "<br>&ensp;Proaño,A.(2022).Queue.https://github.com/aproano2/cmp-3002-fall22-aproano/blob/master/week6/Queues.pdf\n",
    "<br>&ensp;Proaño,A.(2022).Queue.https://github.com/aproano2/cmp-3002-fall22-aproano/blob/master/week6/queues.ipynb"
   ]
  },
  {
   "cell_type": "markdown",
   "metadata": {},
   "source": [
    "### **4. Complete la clase PriorityQueue, de modo que cuando llamemos a dequeue, se devolverá el elemento con mayor prioridad. Analice la complejidad del tiempo de ejecución y la memoria de los métodos de enqueue y dequeue.**"
   ]
  },
  {
   "cell_type": "raw",
   "metadata": {},
   "source": [
    "A = [4, 2, 7, 5, 9] #O(n^2)\n",
    "\n",
    "B = [1, 3, 4, 5] inserte 2 en B, de modo que B todavía esté ordenado No O (n ^ 2)."
   ]
  },
  {
   "cell_type": "markdown",
   "metadata": {},
   "source": [
    "### **5. Una lista enlazada dada (simple o doblemente) representa un número entero. Por ejemplo, 345 está representado por la lista de enlace simple 3 -> 4 ->5. Escriba un programa en Python que haga lo siguiente:**\n",
    "#### **1.Recibe tres enteros A, B y C como entradas. Suponga que los tres números tienen el mismo número de dígitos.**\n",
    "#### **2. Transformar los números a sus correspondientes listas enlazadas**\n",
    "#### **3. Implementar la suma de los tres números. El resultado A + B + C debe almacenarse en una lista enlazada.**\n",
    "#### **4. Imprime el resultado recorriendo la lista.**\n",
    "#### **5. Ejecute su programa para números de 1 a 100 dígitos y capture el tiempo de ejecución.Utilice estos números para estimar la complejidad del tiempo de ejecución.**\n",
    "##### **Sugerencia: escribe una pequeña función que use randint() para generar un número de una cantidad dada de dígitos.**"
   ]
  },
  {
   "cell_type": "markdown",
   "metadata": {},
   "source": [
    "#### **6. Estime analíticamente la complejidad del tiempo de ejecución y compárela con la obtenida en (5).**"
   ]
  },
  {
   "cell_type": "raw",
   "metadata": {},
   "source": [
    "3->4->5\n",
    "1->2->3\n",
    "5->6->7\n",
    "---------\n",
    "1->0->3->5"
   ]
  },
  {
   "cell_type": "code",
   "execution_count": null,
   "metadata": {},
   "outputs": [],
   "source": [
    "import random\n",
    "len(str(random.randint(10**49, 10**50)))"
   ]
  }
 ],
 "metadata": {
  "kernelspec": {
   "display_name": "Python 3 (ipykernel)",
   "language": "python",
   "name": "python3"
  },
  "language_info": {
   "codemirror_mode": {
    "name": "ipython",
    "version": 3
   },
   "file_extension": ".py",
   "mimetype": "text/x-python",
   "name": "python",
   "nbconvert_exporter": "python",
   "pygments_lexer": "ipython3",
   "version": "3.9.12"
  }
 },
 "nbformat": 4,
 "nbformat_minor": 4
}
